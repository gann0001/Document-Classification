{
 "cells": [
  {
   "cell_type": "code",
   "execution_count": 1,
   "metadata": {},
   "outputs": [],
   "source": [
    "import pandas as pd\n",
    "import numpy as np\n",
    "from sklearn import tree\n",
    "import pandas as pd\n",
    "import numpy as np\n",
    "from sklearn.feature_extraction.text import CountVectorizer\n",
    "from sklearn.feature_extraction.text import TfidfVectorizer\n",
    "from sklearn.naive_bayes import GaussianNB\n",
    "from sklearn.metrics import accuracy_score\n",
    "from sklearn.metrics import confusion_matrix\n",
    "from sklearn import svm\n",
    "import matplotlib.pyplot as plt\n",
    "from IPython.display import display\n",
    "from sklearn.model_selection import train_test_split\n"
   ]
  },
  {
   "cell_type": "code",
   "execution_count": 2,
   "metadata": {},
   "outputs": [],
   "source": [
    "#Read Dataset using Pandas\n",
    "data = pd.read_csv('shuffled-full-set-hashed.csv')"
   ]
  },
  {
   "cell_type": "code",
   "execution_count": 3,
   "metadata": {},
   "outputs": [],
   "source": [
    "#Create dataframe with column names\n",
    "df = pd.DataFrame(data.values, columns=['label','doc'])"
   ]
  },
  {
   "cell_type": "code",
   "execution_count": 4,
   "metadata": {},
   "outputs": [
    {
     "data": {
      "text/plain": [
       "label     0\n",
       "doc      45\n",
       "dtype: int64"
      ]
     },
     "execution_count": 4,
     "metadata": {},
     "output_type": "execute_result"
    }
   ],
   "source": [
    "#Count NA for each column in the dataset\n",
    "df.isna().sum()"
   ]
  },
  {
   "cell_type": "code",
   "execution_count": 5,
   "metadata": {},
   "outputs": [
    {
     "name": "stdout",
     "output_type": "stream",
     "text": [
      "<class 'pandas.core.frame.DataFrame'>\n",
      "RangeIndex: 62203 entries, 0 to 62202\n",
      "Data columns (total 2 columns):\n",
      "label    62203 non-null object\n",
      "doc      62158 non-null object\n",
      "dtypes: object(2)\n",
      "memory usage: 972.0+ KB\n"
     ]
    }
   ],
   "source": [
    "df.info()"
   ]
  },
  {
   "cell_type": "code",
   "execution_count": 6,
   "metadata": {},
   "outputs": [],
   "source": [
    "#Remove Na records from the dataset\n",
    "df = df.dropna()"
   ]
  },
  {
   "cell_type": "code",
   "execution_count": 7,
   "metadata": {},
   "outputs": [
    {
     "name": "stdout",
     "output_type": "stream",
     "text": [
      "<class 'pandas.core.frame.DataFrame'>\n",
      "Int64Index: 62158 entries, 0 to 62202\n",
      "Data columns (total 2 columns):\n",
      "label    62158 non-null object\n",
      "doc      62158 non-null object\n",
      "dtypes: object(2)\n",
      "memory usage: 1.4+ MB\n"
     ]
    }
   ],
   "source": [
    "df.info()"
   ]
  },
  {
   "cell_type": "code",
   "execution_count": 8,
   "metadata": {},
   "outputs": [
    {
     "data": {
      "text/plain": [
       "BILL                       18959\n",
       "POLICY CHANGE              10616\n",
       "CANCELLATION NOTICE         9729\n",
       "BINDER                      8952\n",
       "DELETION OF INTEREST        4825\n",
       "REINSTATEMENT NOTICE        4367\n",
       "DECLARATION                  967\n",
       "CHANGE ENDORSEMENT           889\n",
       "RETURNED CHECK               749\n",
       "EXPIRATION NOTICE            734\n",
       "NON-RENEWAL NOTICE           624\n",
       "BILL BINDER                  289\n",
       "INTENT TO CANCEL NOTICE      229\n",
       "APPLICATION                  229\n",
       "Name: label, dtype: int64"
      ]
     },
     "execution_count": 8,
     "metadata": {},
     "output_type": "execute_result"
    }
   ],
   "source": [
    "df['label'].value_counts()"
   ]
  },
  {
   "cell_type": "code",
   "execution_count": 9,
   "metadata": {},
   "outputs": [
    {
     "data": {
      "text/html": [
       "<div>\n",
       "<style scoped>\n",
       "    .dataframe tbody tr th:only-of-type {\n",
       "        vertical-align: middle;\n",
       "    }\n",
       "\n",
       "    .dataframe tbody tr th {\n",
       "        vertical-align: top;\n",
       "    }\n",
       "\n",
       "    .dataframe thead th {\n",
       "        text-align: right;\n",
       "    }\n",
       "</style>\n",
       "<table border=\"1\" class=\"dataframe\">\n",
       "  <thead>\n",
       "    <tr style=\"text-align: right;\">\n",
       "      <th></th>\n",
       "      <th>label</th>\n",
       "      <th>doc</th>\n",
       "    </tr>\n",
       "  </thead>\n",
       "  <tbody>\n",
       "    <tr>\n",
       "      <th>count</th>\n",
       "      <td>62158</td>\n",
       "      <td>62158</td>\n",
       "    </tr>\n",
       "    <tr>\n",
       "      <th>unique</th>\n",
       "      <td>14</td>\n",
       "      <td>60175</td>\n",
       "    </tr>\n",
       "    <tr>\n",
       "      <th>top</th>\n",
       "      <td>BILL</td>\n",
       "      <td>bf064c332aa1 079935e500e5 1a4dd36c6de0 7efa289...</td>\n",
       "    </tr>\n",
       "    <tr>\n",
       "      <th>freq</th>\n",
       "      <td>18959</td>\n",
       "      <td>11</td>\n",
       "    </tr>\n",
       "  </tbody>\n",
       "</table>\n",
       "</div>"
      ],
      "text/plain": [
       "        label                                                doc\n",
       "count   62158                                              62158\n",
       "unique     14                                              60175\n",
       "top      BILL  bf064c332aa1 079935e500e5 1a4dd36c6de0 7efa289...\n",
       "freq    18959                                                 11"
      ]
     },
     "execution_count": 9,
     "metadata": {},
     "output_type": "execute_result"
    }
   ],
   "source": [
    "#Describe the Dataset\n",
    "df.describe()"
   ]
  },
  {
   "cell_type": "code",
   "execution_count": 10,
   "metadata": {},
   "outputs": [
    {
     "data": {
      "text/html": [
       "<div>\n",
       "<style scoped>\n",
       "    .dataframe tbody tr th:only-of-type {\n",
       "        vertical-align: middle;\n",
       "    }\n",
       "\n",
       "    .dataframe tbody tr th {\n",
       "        vertical-align: top;\n",
       "    }\n",
       "\n",
       "    .dataframe thead th {\n",
       "        text-align: right;\n",
       "    }\n",
       "</style>\n",
       "<table border=\"1\" class=\"dataframe\">\n",
       "  <thead>\n",
       "    <tr style=\"text-align: right;\">\n",
       "      <th></th>\n",
       "      <th>count</th>\n",
       "      <th>unique</th>\n",
       "      <th>top</th>\n",
       "      <th>freq</th>\n",
       "    </tr>\n",
       "  </thead>\n",
       "  <tbody>\n",
       "    <tr>\n",
       "      <th>label</th>\n",
       "      <td>62158</td>\n",
       "      <td>14</td>\n",
       "      <td>BILL</td>\n",
       "      <td>18959</td>\n",
       "    </tr>\n",
       "    <tr>\n",
       "      <th>doc</th>\n",
       "      <td>62158</td>\n",
       "      <td>60175</td>\n",
       "      <td>bf064c332aa1 079935e500e5 1a4dd36c6de0 7efa289...</td>\n",
       "      <td>11</td>\n",
       "    </tr>\n",
       "  </tbody>\n",
       "</table>\n",
       "</div>"
      ],
      "text/plain": [
       "       count unique                                                top   freq\n",
       "label  62158     14                                               BILL  18959\n",
       "doc    62158  60175  bf064c332aa1 079935e500e5 1a4dd36c6de0 7efa289...     11"
      ]
     },
     "execution_count": 10,
     "metadata": {},
     "output_type": "execute_result"
    }
   ],
   "source": [
    "df.describe().transpose()"
   ]
  },
  {
   "cell_type": "code",
   "execution_count": 11,
   "metadata": {},
   "outputs": [],
   "source": [
    "labels=df.iloc[:,0].values\n",
    "docs=df.iloc[:,1].values"
   ]
  },
  {
   "cell_type": "code",
   "execution_count": 12,
   "metadata": {},
   "outputs": [],
   "source": [
    "from sklearn import preprocessing\n",
    "le = preprocessing.LabelEncoder()\n",
    "df['label'] = le.fit_transform(df['label'])"
   ]
  },
  {
   "cell_type": "code",
   "execution_count": 13,
   "metadata": {},
   "outputs": [
    {
     "data": {
      "text/plain": [
       "array(['APPLICATION', 'BILL', 'BILL BINDER', 'BINDER',\n",
       "       'CANCELLATION NOTICE', 'CHANGE ENDORSEMENT', 'DECLARATION',\n",
       "       'DELETION OF INTEREST', 'EXPIRATION NOTICE',\n",
       "       'INTENT TO CANCEL NOTICE', 'NON-RENEWAL NOTICE', 'POLICY CHANGE',\n",
       "       'REINSTATEMENT NOTICE', 'RETURNED CHECK'], dtype=object)"
      ]
     },
     "execution_count": 13,
     "metadata": {},
     "output_type": "execute_result"
    }
   ],
   "source": [
    "le.classes_"
   ]
  },
  {
   "cell_type": "code",
   "execution_count": 14,
   "metadata": {},
   "outputs": [],
   "source": [
    "tst_size=0.15\n",
    "vld_size=0.15\n",
    "\n",
    "X_train_test, X_valid, y_train_test, y_valid = train_test_split(df['doc'], df['label'], test_size = vld_size) \n",
    "X_train, X_test, y_train, y_test = train_test_split(X_train_test, y_train_test, test_size=tst_size)\n"
   ]
  },
  {
   "cell_type": "code",
   "execution_count": 15,
   "metadata": {},
   "outputs": [],
   "source": [
    "from sklearn.feature_extraction.text import TfidfVectorizer\n",
    "from sklearn.feature_extraction.text import TfidfTransformer\n",
    "\n",
    "vectorizer = TfidfVectorizer()\n",
    "tfidf_train = vectorizer.fit_transform(X_train)\n",
    "tfidf_test = vectorizer.transform(X_test)\n",
    "tfidf_valid = vectorizer.transform(X_valid)\n",
    "\n",
    "\n",
    "transformer = TfidfTransformer()\n",
    "tfidf_train_vectors = transformer.fit_transform(tfidf_train)\n",
    "tfidf_valid_vectors = transformer.fit_transform(tfidf_valid)\n",
    "tfidf_test_vectors = transformer.fit_transform(tfidf_test)"
   ]
  },
  {
   "cell_type": "code",
   "execution_count": null,
   "metadata": {},
   "outputs": [],
   "source": []
  },
  {
   "cell_type": "code",
   "execution_count": 16,
   "metadata": {},
   "outputs": [],
   "source": [
    "from sklearn import tree\n",
    "dtree = tree.DecisionTreeClassifier()\n",
    "dtree_fit = dtree.fit(tfidf_train_vectors, y_train) "
   ]
  },
  {
   "cell_type": "code",
   "execution_count": 17,
   "metadata": {},
   "outputs": [
    {
     "name": "stdout",
     "output_type": "stream",
     "text": [
      "[[  18    7    1    6    2    1    1    1    1    0    0    4    1    0]\n",
      " [   1 2287   32   61  156    0   29    4   24   28    2   92   48    5]\n",
      " [   1   22    4    0    2    0    0    0    1    0    0    8    0    0]\n",
      " [   2   70    3 1058   22    9   43   10    0    0    2  130    6    6]\n",
      " [   0  139    1   12 1169    1    2   80    1    6    3   51   41    1]\n",
      " [   0    2    0    7    1   99    1    3    1    0    2   26    0    0]\n",
      " [   0   33    2   33    9    0   33    3    2    0    2   21    3    0]\n",
      " [   0    4    0    1   65    2    7  647    0    0    0   13    4    0]\n",
      " [   0   16    0    2    5    0    1    1   69    0    0    4    0    0]\n",
      " [   0    7    0    1    4    0    0    1    0   19    0    1    0    0]\n",
      " [   0    4    0    0   13    2    1    0    7    0   52    5    1    0]\n",
      " [   5  132    5  137   56   21   22   19    9    0    9 1136   20   11]\n",
      " [   0   13    0    0   30    0    2    3    3    0    0   20  600    0]\n",
      " [   0    7    1    4    1    0    3    1    0    0    1    7    0   86]]\n",
      "0.7804590304590304\n",
      "7277\n",
      "[[   4    3    1    7    1    0    3    1    0    0    0    5    0    1]\n",
      " [   2 2038   24   44  134    0   16    3   17   28    1   88   36    4]\n",
      " [   1   19   11    2    0    0    0    0    0    0    0    9    0    0]\n",
      " [   3   72    1  893   12    6   25    6    2    1    2  128    3    3]\n",
      " [   0  107    0    9 1003    0    6   68    1    3    2   23   33    0]\n",
      " [   0    0    0    2    2   73    2    4    1    0    2   20    0    1]\n",
      " [   1   25    0   23   11    0   22   11    0    0    1   21    0    1]\n",
      " [   0    5    0    4   45    1    3  500    0    0    0    8    5    0]\n",
      " [   0   18    0    1    2    1    0    0   68    0    1    7    2    0]\n",
      " [   0    4    0    1    7    0    0    0    0   14    0    1    1    0]\n",
      " [   3    5    0    1    9    0    2    1    0    0   62    5    0    0]\n",
      " [   4   97    9  103   46   20   23   12    5    2    7  996   21   13]\n",
      " [   0   17    0    2   36    0    3    4    1    0    0   17  456    0]\n",
      " [   0   10    1    3    3    0    3    3    0    0    0    4    1   79]]\n",
      "0.7846328538985617\n",
      "6219\n"
     ]
    }
   ],
   "source": [
    "dtree_pred_val = dtree_fit.predict(tfidf_valid_vectors)\n",
    "dtree_pred_test = dtree_fit.predict(tfidf_test_vectors)\n",
    "print(confusion_matrix(y_valid, dtree_pred_val))\n",
    "print(accuracy_score(y_valid, dtree_pred_val))\n",
    "print(accuracy_score(y_valid, dtree_pred_val, normalize = False))\n",
    "print(confusion_matrix(y_test, dtree_pred_test))\n",
    "print(accuracy_score(y_test, dtree_pred_test))\n",
    "print(accuracy_score(y_test, dtree_pred_test, normalize = False))"
   ]
  },
  {
   "cell_type": "code",
   "execution_count": 18,
   "metadata": {},
   "outputs": [
    {
     "name": "stderr",
     "output_type": "stream",
     "text": [
      "/Users/sumithkumargannarapu/anaconda3/lib/python3.6/site-packages/sklearn/linear_model/logistic.py:757: ConvergenceWarning: lbfgs failed to converge. Increase the number of iterations.\n",
      "  \"of iterations.\", ConvergenceWarning)\n"
     ]
    }
   ],
   "source": [
    "from sklearn.linear_model import LogisticRegression\n",
    "lr = LogisticRegression(random_state=0, solver='lbfgs',multi_class='multinomial')\n",
    "lr_fit = lr.fit(tfidf_train_vectors, y_train)"
   ]
  },
  {
   "cell_type": "code",
   "execution_count": 19,
   "metadata": {},
   "outputs": [
    {
     "name": "stdout",
     "output_type": "stream",
     "text": [
      "[[   7    5    0   23    0    0    0    0    0    0    0    8    0    0]\n",
      " [   2 2548    0   57   88    1    0    0    1    1    0   69    2    0]\n",
      " [   0   28    1    3    0    0    0    0    0    0    0    6    0    0]\n",
      " [   0   44    0 1227    5    1    1    2    0    0    0   81    0    0]\n",
      " [   0  131    0   13 1261    0    0   45    1    0    2   38   16    0]\n",
      " [   0    2    0    3    4  106    0    0    0    0    0   27    0    0]\n",
      " [   0   38    0   68    3    0    4    4    0    0    0   23    1    0]\n",
      " [   0    3    0    1   88    1    0  645    0    0    0    5    0    0]\n",
      " [   0   31    0    3   18    0    0    1   40    1    0    4    0    0]\n",
      " [   0   13    0    1   12    0    0    1    0    4    0    2    0    0]\n",
      " [   0    2    0    0   36    0    0    1    0    0   42    4    0    0]\n",
      " [   1  123    0  131   38   39    1    5    1    0    0 1231   12    0]\n",
      " [   0   13    0    4   43    0    0    7    1    0    0   20  583    0]\n",
      " [   0    9    0    5    1    0    0    0    0    0    0    9    0   87]]\n",
      "0.8350493350493351\n",
      "7786\n",
      "[[   5    3    0   14    0    0    0    0    0    0    0    4    0    0]\n",
      " [   0 2258    0   43   86    0    0    1    0    1    0   45    1    0]\n",
      " [   0   29    0    7    1    0    0    0    0    0    0    5    0    0]\n",
      " [   1   40    0 1029    7    0    3    1    0    0    0   75    1    0]\n",
      " [   0  102    0   17 1068    0    0   37    0    0    0   20   11    0]\n",
      " [   1    1    0    3    4   73    0    1    1    0    0   23    0    0]\n",
      " [   0   26    0   51    9    0    3    7    0    0    1   18    0    1]\n",
      " [   0    2    0    2   71    1    0  490    0    0    0    4    1    0]\n",
      " [   0   30    0    1   17    0    0    1   44    0    1    6    0    0]\n",
      " [   0    7    0    2   14    0    0    0    0    4    0    1    0    0]\n",
      " [   0    4    0    1   44    0    0    0    2    0   35    2    0    0]\n",
      " [   0   97    0  111   20   23    1    9    1    0    1 1089    6    0]\n",
      " [   0   14    0    4   38    0    0    3    0    0    0   10  467    0]\n",
      " [   0   20    0    4    1    0    0    0    0    0    0    3    0   79]]\n",
      "0.8382538480948776\n",
      "6644\n"
     ]
    }
   ],
   "source": [
    "lr_pred_val = lr_fit.predict(tfidf_valid_vectors)\n",
    "lr_pred_test = lr_fit.predict(tfidf_test_vectors)\n",
    "print(confusion_matrix(y_valid, lr_pred_val))\n",
    "print(accuracy_score(y_valid, lr_pred_val))\n",
    "print(accuracy_score(y_valid, lr_pred_val, normalize = False))\n",
    "print(confusion_matrix(y_test, lr_pred_test))\n",
    "print(accuracy_score(y_test, lr_pred_test))\n",
    "print(accuracy_score(y_test, lr_pred_test, normalize = False))"
   ]
  },
  {
   "cell_type": "code",
   "execution_count": 75,
   "metadata": {},
   "outputs": [],
   "source": []
  },
  {
   "cell_type": "code",
   "execution_count": null,
   "metadata": {},
   "outputs": [
    {
     "name": "stderr",
     "output_type": "stream",
     "text": [
      "/Users/sumithkumargannarapu/anaconda3/lib/python3.6/site-packages/sklearn/svm/base.py:196: FutureWarning: The default value of gamma will change from 'auto' to 'scale' in version 0.22 to account better for unscaled features. Set gamma explicitly to 'auto' or 'scale' to avoid this warning.\n",
      "  \"avoid this warning.\", FutureWarning)\n"
     ]
    }
   ],
   "source": [
    "from sklearn.svm import SVC\n",
    "svm = svm.SVC()\n",
    "svm_fit = svm.fit(tfidf_train_vectors, y_train)"
   ]
  },
  {
   "cell_type": "code",
   "execution_count": null,
   "metadata": {},
   "outputs": [],
   "source": [
    "svm_pred_val = svm_fit.predict(tfidf_valid_vectors)\n",
    "svm_pred_test = svm_fit.predict(tfidf_test_vectors)\n",
    "print(confusion_matrix(y_valid, svm_pred_val))\n",
    "print(accuracy_score(y_valid, svm_pred_val))\n",
    "print(accuracy_score(y_valid, svm_pred_val, normalize = False))\n",
    "print(confusion_matrix(y_test, svm_pred_test))\n",
    "print(accuracy_score(y_test, svm_pred_test))\n",
    "print(accuracy_score(y_test, svm_pred_test, normalize = False))"
   ]
  },
  {
   "cell_type": "code",
   "execution_count": null,
   "metadata": {},
   "outputs": [],
   "source": []
  },
  {
   "cell_type": "code",
   "execution_count": 18,
   "metadata": {},
   "outputs": [
    {
     "name": "stderr",
     "output_type": "stream",
     "text": [
      "/Users/sumithkumargannarapu/anaconda3/lib/python3.6/site-packages/sklearn/ensemble/forest.py:248: FutureWarning: The default value of n_estimators will change from 10 in version 0.20 to 100 in 0.22.\n",
      "  \"10 in version 0.20 to 100 in 0.22.\", FutureWarning)\n"
     ]
    }
   ],
   "source": [
    "from sklearn.ensemble import RandomForestClassifier\n",
    "rf = RandomForestClassifier()\n",
    "rf_fit = rf.fit(tfidf_train_vectors, y_train)"
   ]
  },
  {
   "cell_type": "code",
   "execution_count": 19,
   "metadata": {},
   "outputs": [
    {
     "name": "stdout",
     "output_type": "stream",
     "text": [
      "[[  18    8    0    9    1    0    1    0    0    0    0    1    0    0]\n",
      " [   1 2588    7   48  111    0    7    1   20    1    0  106    0    1]\n",
      " [   0   23    7    5    1    0    0    0    0    0    0    4    0    0]\n",
      " [   2   71    0 1121    5    1    3    1    0    0    0  128    3    0]\n",
      " [   0  143    0   12 1213    0    2   43    0    4    3   53   25    0]\n",
      " [   0    8    0    4    2   86    0    0    0    0    0   20    1    0]\n",
      " [   0   28    0   67    8    0   16    4    0    0    0   24    0    1]\n",
      " [   0    3    0    3  112    1    1  576    0    0    0   10    2    0]\n",
      " [   0   25    0    1   18    0    0    1   57    0    0    5    1    0]\n",
      " [   0    7    0    2    9    0    0    4    0    9    0    1    0    0]\n",
      " [   0    2    0    2   31    0    2    0    2    1   42    4    2    0]\n",
      " [   0  121    1  115   43   21    3    6    2    0    1 1208   15    0]\n",
      " [   0   16    0    0   75    0    1    3    2    0    1   21  562    0]\n",
      " [   0   11    0    1    2    0    0    0    0    0    0   14    0   72]]\n",
      "0.8124195624195624\n",
      "7575\n",
      "[[   6   14    0   12    1    0    0    0    0    0    0    6    0    0]\n",
      " [   0 2112    4   46  110    0    8    2   15    0    0   85    4    3]\n",
      " [   0    8    7    6    0    0    0    0    0    0    0    5    0    0]\n",
      " [   0   67    1  989    8    1    5    0    0    0    0  101    2    1]\n",
      " [   0  117    0   12 1052    0    5   28    1    1    2   20   19    0]\n",
      " [   0    3    0    1    4   71    0    0    0    0    0   29    0    0]\n",
      " [   1   27    0   53    8    1    7    2    1    0    0   17    1    0]\n",
      " [   0    2    0    0   95    1    0  547    0    0    0    1    3    0]\n",
      " [   0   24    0    0   10    0    0    0   61    0    0    3    0    0]\n",
      " [   0    9    0    0    5    0    0    1    0    7    0    0    1    0]\n",
      " [   0    2    0    0   37    0    0    0    0    0   38    2    1    0]\n",
      " [   1  116    3   95   36   11    4    3    6    0    1 1073    9    0]\n",
      " [   0    8    0    5   55    0    0    4    2    0    0   17  426    0]\n",
      " [   0   14    0    6    3    0    0    1    0    0    0    7    2   56]]\n",
      "0.8140297754226596\n",
      "6452\n"
     ]
    }
   ],
   "source": [
    "rf_pred_val = rf_fit.predict(tfidf_valid_vectors)\n",
    "rf_pred_test = rf_fit.predict(tfidf_test_vectors)\n",
    "print(confusion_matrix(y_valid, rf_pred_val))\n",
    "print(accuracy_score(y_valid, rf_pred_val))\n",
    "print(accuracy_score(y_valid, rf_pred_val, normalize = False))\n",
    "print(confusion_matrix(y_test, rf_pred_test))\n",
    "print(accuracy_score(y_test, rf_pred_test))\n",
    "print(accuracy_score(y_test, rf_pred_test, normalize = False))"
   ]
  },
  {
   "cell_type": "code",
   "execution_count": null,
   "metadata": {},
   "outputs": [],
   "source": []
  }
 ],
 "metadata": {
  "kernelspec": {
   "display_name": "Python 3",
   "language": "python",
   "name": "python3"
  },
  "language_info": {
   "codemirror_mode": {
    "name": "ipython",
    "version": 3
   },
   "file_extension": ".py",
   "mimetype": "text/x-python",
   "name": "python",
   "nbconvert_exporter": "python",
   "pygments_lexer": "ipython3",
   "version": "3.6.6"
  }
 },
 "nbformat": 4,
 "nbformat_minor": 2
}
