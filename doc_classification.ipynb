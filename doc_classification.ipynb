{
 "cells": [
  {
   "cell_type": "code",
   "execution_count": 3,
   "metadata": {},
   "outputs": [],
   "source": [
    "import pandas as pd\n",
    "import numpy as np\n",
    "from sklearn import tree\n",
    "import pandas as pd\n",
    "import numpy as np\n",
    "from sklearn.feature_extraction.text import CountVectorizer\n",
    "from sklearn.feature_extraction.text import TfidfVectorizer\n",
    "from sklearn.naive_bayes import GaussianNB\n",
    "from sklearn.metrics import accuracy_score\n",
    "from sklearn.metrics import confusion_matrix\n",
    "from sklearn import svm\n",
    "import matplotlib.pyplot as plt\n",
    "from IPython.display import display\n",
    "from sklearn.model_selection import train_test_split"
   ]
  },
  {
   "cell_type": "code",
   "execution_count": 4,
   "metadata": {},
   "outputs": [],
   "source": [
    "#Read Dataset using Pandas\n",
    "data = pd.read_csv('shuffled-full-set-hashed.csv')"
   ]
  },
  {
   "cell_type": "code",
   "execution_count": 5,
   "metadata": {},
   "outputs": [],
   "source": [
    "#Create dataframe with column names\n",
    "df = pd.DataFrame(data.values, columns=['label','doc'])"
   ]
  },
  {
   "cell_type": "code",
   "execution_count": 6,
   "metadata": {},
   "outputs": [
    {
     "data": {
      "text/plain": [
       "label     0\n",
       "doc      45\n",
       "dtype: int64"
      ]
     },
     "execution_count": 6,
     "metadata": {},
     "output_type": "execute_result"
    }
   ],
   "source": [
    "#Count NA for each column in the dataset\n",
    "df.isna().sum()"
   ]
  },
  {
   "cell_type": "code",
   "execution_count": 13,
   "metadata": {},
   "outputs": [
    {
     "name": "stdout",
     "output_type": "stream",
     "text": [
      "<class 'pandas.core.frame.DataFrame'>\n",
      "Int64Index: 62158 entries, 0 to 62202\n",
      "Data columns (total 2 columns):\n",
      "label    62158 non-null object\n",
      "doc      62158 non-null object\n",
      "dtypes: object(2)\n",
      "memory usage: 1.4+ MB\n"
     ]
    },
    {
     "data": {
      "text/plain": [
       "<matplotlib.axes._subplots.AxesSubplot at 0x1a19fef860>"
      ]
     },
     "execution_count": 13,
     "metadata": {},
     "output_type": "execute_result"
    },
    {
     "data": {
      "image/png": "[encoded data removed]",
      "text/plain": [
       "<Figure size 432x288 with 1 Axes>"
      ]
     },
     "metadata": {
      "needs_background": "light"
     },
     "output_type": "display_data"
    }
   ],
   "source": [
    "df.info()\n",
    "pd.value_counts(df['label']).plot.bar()"
   ]
  },
  {
   "cell_type": "code",
   "execution_count": 8,
   "metadata": {},
   "outputs": [],
   "source": [
    "#Remove Na records from the dataset\n",
    "df = df.dropna()"
   ]
  },
  {
   "cell_type": "code",
   "execution_count": 9,
   "metadata": {},
   "outputs": [
    {
     "name": "stdout",
     "output_type": "stream",
     "text": [
      "<class 'pandas.core.frame.DataFrame'>\n",
      "Int64Index: 62158 entries, 0 to 62202\n",
      "Data columns (total 2 columns):\n",
      "label    62158 non-null object\n",
      "doc      62158 non-null object\n",
      "dtypes: object(2)\n",
      "memory usage: 1.4+ MB\n"
     ]
    }
   ],
   "source": [
    "df.info()"
   ]
  },
  {
   "cell_type": "code",
   "execution_count": 10,
   "metadata": {},
   "outputs": [
    {
     "data": {
      "text/plain": [
       "BILL                       18959\n",
       "POLICY CHANGE              10616\n",
       "CANCELLATION NOTICE         9729\n",
       "BINDER                      8952\n",
       "DELETION OF INTEREST        4825\n",
       "REINSTATEMENT NOTICE        4367\n",
       "DECLARATION                  967\n",
       "CHANGE ENDORSEMENT           889\n",
       "RETURNED CHECK               749\n",
       "EXPIRATION NOTICE            734\n",
       "NON-RENEWAL NOTICE           624\n",
       "BILL BINDER                  289\n",
       "INTENT TO CANCEL NOTICE      229\n",
       "APPLICATION                  229\n",
       "Name: label, dtype: int64"
      ]
     },
     "execution_count": 10,
     "metadata": {},
     "output_type": "execute_result"
    }
   ],
   "source": [
    "df['label'].value_counts()"
   ]
  },
  {
   "cell_type": "code",
   "execution_count": 11,
   "metadata": {},
   "outputs": [
    {
     "data": {
      "text/html": [
       "<div>\n",
       "<style scoped>\n",
       "    .dataframe tbody tr th:only-of-type {\n",
       "        vertical-align: middle;\n",
       "    }\n",
       "\n",
       "    .dataframe tbody tr th {\n",
       "        vertical-align: top;\n",
       "    }\n",
       "\n",
       "    .dataframe thead th {\n",
       "        text-align: right;\n",
       "    }\n",
       "</style>\n",
       "<table border=\"1\" class=\"dataframe\">\n",
       "  <thead>\n",
       "    <tr style=\"text-align: right;\">\n",
       "      <th></th>\n",
       "      <th>label</th>\n",
       "      <th>doc</th>\n",
       "    </tr>\n",
       "  </thead>\n",
       "  <tbody>\n",
       "    <tr>\n",
       "      <th>count</th>\n",
       "      <td>62158</td>\n",
       "      <td>62158</td>\n",
       "    </tr>\n",
       "    <tr>\n",
       "      <th>unique</th>\n",
       "      <td>14</td>\n",
       "      <td>60175</td>\n",
       "    </tr>\n",
       "    <tr>\n",
       "      <th>top</th>\n",
       "      <td>BILL</td>\n",
       "      <td>bf064c332aa1 079935e500e5 1a4dd36c6de0 7efa289...</td>\n",
       "    </tr>\n",
       "    <tr>\n",
       "      <th>freq</th>\n",
       "      <td>18959</td>\n",
       "      <td>11</td>\n",
       "    </tr>\n",
       "  </tbody>\n",
       "</table>\n",
       "</div>"
      ],
      "text/plain": [
       "        label                                                doc\n",
       "count   62158                                              62158\n",
       "unique     14                                              60175\n",
       "top      BILL  bf064c332aa1 079935e500e5 1a4dd36c6de0 7efa289...\n",
       "freq    18959                                                 11"
      ]
     },
     "execution_count": 11,
     "metadata": {},
     "output_type": "execute_result"
    }
   ],
   "source": [
    "#Describe the Dataset\n",
    "df.describe()"
   ]
  },
  {
   "cell_type": "code",
   "execution_count": 12,
   "metadata": {},
   "outputs": [
    {
     "data": {
      "text/html": [
       "<div>\n",
       "<style scoped>\n",
       "    .dataframe tbody tr th:only-of-type {\n",
       "        vertical-align: middle;\n",
       "    }\n",
       "\n",
       "    .dataframe tbody tr th {\n",
       "        vertical-align: top;\n",
       "    }\n",
       "\n",
       "    .dataframe thead th {\n",
       "        text-align: right;\n",
       "    }\n",
       "</style>\n",
       "<table border=\"1\" class=\"dataframe\">\n",
       "  <thead>\n",
       "    <tr style=\"text-align: right;\">\n",
       "      <th></th>\n",
       "      <th>count</th>\n",
       "      <th>unique</th>\n",
       "      <th>top</th>\n",
       "      <th>freq</th>\n",
       "    </tr>\n",
       "  </thead>\n",
       "  <tbody>\n",
       "    <tr>\n",
       "      <th>label</th>\n",
       "      <td>62158</td>\n",
       "      <td>14</td>\n",
       "      <td>BILL</td>\n",
       "      <td>18959</td>\n",
       "    </tr>\n",
       "    <tr>\n",
       "      <th>doc</th>\n",
       "      <td>62158</td>\n",
       "      <td>60175</td>\n",
       "      <td>bf064c332aa1 079935e500e5 1a4dd36c6de0 7efa289...</td>\n",
       "      <td>11</td>\n",
       "    </tr>\n",
       "  </tbody>\n",
       "</table>\n",
       "</div>"
      ],
      "text/plain": [
       "       count unique                                                top   freq\n",
       "label  62158     14                                               BILL  18959\n",
       "doc    62158  60175  bf064c332aa1 079935e500e5 1a4dd36c6de0 7efa289...     11"
      ]
     },
     "execution_count": 12,
     "metadata": {},
     "output_type": "execute_result"
    }
   ],
   "source": [
    "df.describe().transpose()"
   ]
  },
  {
   "cell_type": "code",
   "execution_count": null,
   "metadata": {},
   "outputs": [],
   "source": []
  },
  {
   "cell_type": "code",
   "execution_count": 14,
   "metadata": {},
   "outputs": [],
   "source": [
    "from sklearn import preprocessing\n",
    "le = preprocessing.LabelEncoder()\n",
    "df['label'] = le.fit_transform(df['label'])"
   ]
  },
  {
   "cell_type": "code",
   "execution_count": 15,
   "metadata": {},
   "outputs": [
    {
     "data": {
      "text/plain": [
       "array(['APPLICATION', 'BILL', 'BILL BINDER', 'BINDER',\n",
       "       'CANCELLATION NOTICE', 'CHANGE ENDORSEMENT', 'DECLARATION',\n",
       "       'DELETION OF INTEREST', 'EXPIRATION NOTICE',\n",
       "       'INTENT TO CANCEL NOTICE', 'NON-RENEWAL NOTICE', 'POLICY CHANGE',\n",
       "       'REINSTATEMENT NOTICE', 'RETURNED CHECK'], dtype=object)"
      ]
     },
     "execution_count": 15,
     "metadata": {},
     "output_type": "execute_result"
    }
   ],
   "source": [
    "le.classes_"
   ]
  },
  {
   "cell_type": "code",
   "execution_count": 16,
   "metadata": {},
   "outputs": [],
   "source": [
    "tst_size=0.15\n",
    "vld_size=0.15\n",
    "\n",
    "X_train_test, X_valid, y_train_test, y_valid = train_test_split(df['doc'], df['label'], test_size = vld_size) \n",
    "X_train, X_test, y_train, y_test = train_test_split(X_train_test, y_train_test, test_size=tst_size)\n"
   ]
  },
  {
   "cell_type": "code",
   "execution_count": 17,
   "metadata": {},
   "outputs": [],
   "source": [
    "from sklearn.feature_extraction.text import TfidfVectorizer\n",
    "\n",
    "vectorizer = TfidfVectorizer()\n",
    "tfidf_train = vectorizer.fit_transform(X_train)\n",
    "tfidf_test = vectorizer.transform(X_test)\n",
    "tfidf_valid = vectorizer.transform(X_valid)\n"
   ]
  },
  {
   "cell_type": "code",
   "execution_count": 18,
   "metadata": {},
   "outputs": [],
   "source": [
    "from sklearn.feature_extraction.text import TfidfTransformer\n",
    "\n",
    "transformer = TfidfTransformer()\n",
    "tfidf_train_vectors = transformer.fit_transform(tfidf_train)\n",
    "tfidf_valid_vectors = transformer.fit_transform(tfidf_valid)\n",
    "tfidf_test_vectors = transformer.fit_transform(tfidf_test)"
   ]
  },
  {
   "cell_type": "code",
   "execution_count": 16,
   "metadata": {},
   "outputs": [],
   "source": [
    "from sklearn import tree\n",
    "dtree = tree.DecisionTreeClassifier()\n",
    "dtree_fit = dtree.fit(tfidf_train_vectors, y_train) "
   ]
  },
  {
   "cell_type": "code",
   "execution_count": 17,
   "metadata": {},
   "outputs": [
    {
     "name": "stdout",
     "output_type": "stream",
     "text": [
      "Confusion Matrix, Accuracy and how many correct records are predicted for Validation Data:\n",
      "[[   8    7    0    8    0    0    2    0    0    0    0    8    2    0]\n",
      " [   1 2338   25   66  167    4   29    1   50    9    1  105   25    6]\n",
      " [   0   18   10    6    4    0    0    0    0    0    0    9    0    0]\n",
      " [   4   82    3 1035   13    1   32    3    3    2    1  152    8    3]\n",
      " [   0  119    0    8 1113    1    8   68    7    5    7   47   55    2]\n",
      " [   0    1    0    4    2   95    1    6    0    1    0   21    1    0]\n",
      " [   2   35    3   51    8    1   26    7    1    1    1   15    2    0]\n",
      " [   0    3    0    6   81    2    6  642    1    0    0   18    5    0]\n",
      " [   0   16    0    2    1    0    1    1   73    0    4    7    2    0]\n",
      " [   0    3    0    1    4    0    0    0    1   12    0    0    3    0]\n",
      " [   0    4    0    0   10    1    2    2    1    0   78    5    4    1]\n",
      " [   6  118    9  117   54   21   18   28    4    3    7 1210   17   11]\n",
      " [   0    8    0    1   33    0    2    2    1    0    2   25  539    0]\n",
      " [   0    5    0    6    4    0    9    1    0    0    0   15    0   69]]\n",
      "0.7773487773487774\n",
      "7248\n",
      "Confusion Matrix, Accuracy and how many correct records are predicted for Test Data:\n",
      "[[   9    6    0    5    1    0    3    1    0    0    0    8    0    1]\n",
      " [   4 1956   17   70  144    0   18    1   33    1    3  111   23    6]\n",
      " [   0   17    3    0    1    0    1    0    0    0    0    6    0    0]\n",
      " [   6   60    8  883   22    5   20    5    3    0    2  129    3    2]\n",
      " [   1  116    1   10  924    1    3   52    5    3    4   42   39    3]\n",
      " [   0    2    0    3    2   84    0    2    1    0    0    9    0    0]\n",
      " [   2   20    1   30    8    0   26    5    1    1    0   25    5    0]\n",
      " [   0    3    0    1   63    0    4  518    2    2    0   13    3    0]\n",
      " [   0   20    2    1    4    0    2    0   74    0    4    9    1    0]\n",
      " [   0    7    0    0    5    0    0    1    0   11    0    2    1    0]\n",
      " [   0    2    0    0    5    0    0    0    0    2   57    5    1    0]\n",
      " [   3  114    2  114   45   13   20   20   12    0    8 1019   30    5]\n",
      " [   0   10    0    4   44    0    3    3    2    0    1   20  488    0]\n",
      " [   0    5    0    1    3    1    7    0    0    0    0   12    0   64]]\n",
      "0.7716376482462781\n",
      "6116\n"
     ]
    }
   ],
   "source": [
    "dtree_pred_val = dtree_fit.predict(tfidf_valid_vectors)\n",
    "dtree_pred_test = dtree_fit.predict(tfidf_test_vectors)\n",
    "print('Confusion Matrix, Accuracy and how many correct records are predicted for Validation Data:')\n",
    "print(confusion_matrix(y_valid, dtree_pred_val))\n",
    "print(accuracy_score(y_valid, dtree_pred_val))\n",
    "print(accuracy_score(y_valid, dtree_pred_val, normalize = False))\n",
    "print('Confusion Matrix, Accuracy and how many correct records are predicted for Test Data:')\n",
    "print(confusion_matrix(y_test, dtree_pred_test))\n",
    "print(accuracy_score(y_test, dtree_pred_test))\n",
    "print(accuracy_score(y_test, dtree_pred_test, normalize = False))"
   ]
  },
  {
   "cell_type": "code",
   "execution_count": 16,
   "metadata": {},
   "outputs": [
    {
     "name": "stderr",
     "output_type": "stream",
     "text": [
      "/Users/sumithkumargannarapu/anaconda3/lib/python3.6/site-packages/sklearn/linear_model/logistic.py:757: ConvergenceWarning: lbfgs failed to converge. Increase the number of iterations.\n",
      "  \"of iterations.\", ConvergenceWarning)\n"
     ]
    }
   ],
   "source": [
    "from sklearn.linear_model import LogisticRegression\n",
    "lr = LogisticRegression(random_state=42, solver='lbfgs',multi_class='multinomial', C=14)\n",
    "lr_fit = lr.fit(tfidf_train_vectors, y_train)"
   ]
  },
  {
   "cell_type": "code",
   "execution_count": 17,
   "metadata": {},
   "outputs": [
    {
     "name": "stdout",
     "output_type": "stream",
     "text": [
      "Confusion Matrix, Accuracy and how many correct records are predicted for Validation Data:\n",
      "[[  17    1    0   12    0    0    0    0    0    0    0    2    0    0]\n",
      " [   1 2576    5   44  102    0    7    1    7    1    0   56    4    0]\n",
      " [   0   40    3    6    0    0    0    0    0    0    0    6    0    1]\n",
      " [   1   34    0 1227    7    2    7    1    0    0    0   75    1    3]\n",
      " [   0  108    0    8 1235    0    4   42    1    2    6   20   16    1]\n",
      " [   1    5    0    1    1  120    0    0    0    0    0   16    0    0]\n",
      " [   1   34    0   59    3    0   20    7    0    0    2   24    2    1]\n",
      " [   0    0    0    4   80    0    2  649    0    1    0    6    0    0]\n",
      " [   0   23    0    3    3    0    0    2   68    0    1    5    2    0]\n",
      " [   0   11    0    0    6    0    0    0    0    6    1    0    1    0]\n",
      " [   0    1    0    0   13    0    0    1    1    0   72    1    1    0]\n",
      " [   2  112    0  127   31   13    5    5    5    0    4 1278   10    0]\n",
      " [   0   17    0    2   30    0    0    1    2    1    1   15  586    0]\n",
      " [   0    4    0    6    0    0    0    0    0    0    0    8    0  105]]\n",
      "0.853925353925354\n",
      "7962\n",
      "Confusion Matrix, Accuracy and how many correct records are predicted for Test Data:\n",
      "[[  10    1    0   12    0    0    0    0    0    0    0    1    0    0]\n",
      " [   2 2175    4   43   86    0    5    0    1    1    0   55    3    1]\n",
      " [   0   23    4    8    2    0    0    0    0    0    0    4    0    0]\n",
      " [   1   30    1 1028    5    2    8    1    0    0    0   46    2    3]\n",
      " [   0  111    0    8 1039    0    2   40    2    4    4   21   17    0]\n",
      " [   0    1    0    0    0   88    0    2    0    0    0   17    0    0]\n",
      " [   3   22    0   62    7    0   15    1    0    0    0   15    2    1]\n",
      " [   0    3    0    1   74    0    5  569    0    0    0    5    0    0]\n",
      " [   0   21    0    0    4    0    0    0   63    0    1    4    1    0]\n",
      " [   0    3    0    2   11    0    0    1    0   12    0    1    0    0]\n",
      " [   0    2    0    0    8    0    0    0    1    0   61    1    0    0]\n",
      " [   1  105    0   93   25   10    2    7    1    0    2 1124    9    2]\n",
      " [   0    5    0    2   32    0    1    2    2    0    0   11  489    0]\n",
      " [   0    6    0    6    1    0    0    0    0    0    0    4    0   78]]\n",
      "0.8522583901085037\n",
      "6755\n"
     ]
    }
   ],
   "source": [
    "lr_pred_val = lr_fit.predict(tfidf_valid_vectors)\n",
    "lr_pred_test = lr_fit.predict(tfidf_test_vectors)\n",
    "print('Confusion Matrix, Accuracy and how many correct records are predicted for Validation Data:')\n",
    "print(confusion_matrix(y_valid, lr_pred_val))\n",
    "print(accuracy_score(y_valid, lr_pred_val))\n",
    "print(accuracy_score(y_valid, lr_pred_val, normalize = False))\n",
    "print('Confusion Matrix, Accuracy and how many correct records are predicted for Test Data:')\n",
    "print(confusion_matrix(y_test, lr_pred_test))\n",
    "print(accuracy_score(y_test, lr_pred_test))\n",
    "print(accuracy_score(y_test, lr_pred_test, normalize = False))"
   ]
  },
  {
   "cell_type": "code",
   "execution_count": 75,
   "metadata": {},
   "outputs": [],
   "source": []
  },
  {
   "cell_type": "code",
   "execution_count": null,
   "metadata": {},
   "outputs": [
    {
     "name": "stderr",
     "output_type": "stream",
     "text": [
      "/Users/sumithkumargannarapu/anaconda3/lib/python3.6/site-packages/sklearn/svm/base.py:196: FutureWarning: The default value of gamma will change from 'auto' to 'scale' in version 0.22 to account better for unscaled features. Set gamma explicitly to 'auto' or 'scale' to avoid this warning.\n",
      "  \"avoid this warning.\", FutureWarning)\n"
     ]
    }
   ],
   "source": [
    "from sklearn.svm import SVC\n",
    "svm = svm.SVC()\n",
    "svm_fit = svm.fit(tfidf_train_vectors, y_train)"
   ]
  },
  {
   "cell_type": "code",
   "execution_count": null,
   "metadata": {},
   "outputs": [],
   "source": [
    "svm_pred_val = svm_fit.predict(tfidf_valid_vectors)\n",
    "svm_pred_test = svm_fit.predict(tfidf_test_vectors)\n",
    "print('Confusion Matrix, Accuracy and how many correct records are predicted for Validation Data:')\n",
    "print(confusion_matrix(y_valid, svm_pred_val))\n",
    "print(accuracy_score(y_valid, svm_pred_val))\n",
    "print(accuracy_score(y_valid, svm_pred_val, normalize = False))\n",
    "print('Confusion Matrix, Accuracy and how many correct records are predicted for Test Data:')\n",
    "print(confusion_matrix(y_test, svm_pred_test))\n",
    "print(accuracy_score(y_test, svm_pred_test))\n",
    "print(accuracy_score(y_test, svm_pred_test, normalize = False))"
   ]
  },
  {
   "cell_type": "code",
   "execution_count": null,
   "metadata": {},
   "outputs": [],
   "source": []
  },
  {
   "cell_type": "code",
   "execution_count": 20,
   "metadata": {},
   "outputs": [],
   "source": [
    "from sklearn.ensemble import RandomForestClassifier\n",
    "rf = RandomForestClassifier(n_estimators=100)\n",
    "rf_fit = rf.fit(tfidf_train_vectors, y_train)"
   ]
  },
  {
   "cell_type": "code",
   "execution_count": null,
   "metadata": {},
   "outputs": [],
   "source": [
    "rf_pred_val = rf_fit.predict(tfidf_valid_vectors)\n",
    "rf_pred_test = rf_fit.predict(tfidf_test_vectors)\n",
    "print('Confusion Matrix, Accuracy and how many correct records are predicted for Validation Data:')\n",
    "print(confusion_matrix(y_valid, rf_pred_val))\n",
    "print(accuracy_score(y_valid, rf_pred_val))\n",
    "print(accuracy_score(y_valid, rf_pred_val, normalize = False))\n",
    "print('Confusion Matrix, Accuracy and how many correct records are predicted for Test Data:')\n",
    "print(confusion_matrix(y_test, rf_pred_test))\n",
    "print(accuracy_score(y_test, rf_pred_test))\n",
    "print(accuracy_score(y_test, rf_pred_test, normalize = False))"
   ]
  },
  {
   "cell_type": "code",
   "execution_count": 18,
   "metadata": {},
   "outputs": [],
   "source": [
    "from sklearn.neighbors import KNeighborsClassifier\n",
    "knn = KNeighborsClassifier(n_neighbors=1).fit(tfidf_train_vectors, y_train)"
   ]
  },
  {
   "cell_type": "code",
   "execution_count": 19,
   "metadata": {},
   "outputs": [
    {
     "name": "stdout",
     "output_type": "stream",
     "text": [
      "Confusion Matrix, Accuracy and how many correct records are predicted for Validation Data:\n",
      "[[  14    3    0    7    2    1    1    0    0    0    0    4    0    0]\n",
      " [   5 2174   14   79  166    6   24   38   30    9    6  133  115    5]\n",
      " [   0   25   13    4    3    0    0    0    0    0    0    8    3    0]\n",
      " [   6  124    4  909   47    3   39   23    5    4    1  161   29    3]\n",
      " [   0  176    1   34  806    4   14  100   15   12   12   53  214    2]\n",
      " [   1    6    0    2    2   89    1    3    0    1    0   38    1    0]\n",
      " [   2   32    1   40   10    2   14   11    1    1    2   32    4    1]\n",
      " [   1   47    0   19  111    3    9  502    1    4    3   25   13    4]\n",
      " [   0   19    0    3    9    1    0    0   59    0    0    6   10    0]\n",
      " [   0    3    0    1    5    0    1    0    1    6    1    3    4    0]\n",
      " [   0    4    0    1   22    0    2    1    1    0   52    2    5    0]\n",
      " [   4  163    5  132   52   31   21   31   10    7    8 1081   46    1]\n",
      " [   1   78    0   12  221    1    5   13    8    3    3   21  287    2]\n",
      " [   0   14    0    3    6    0    1    4    2    0    0   11    0   82]]\n",
      "0.6529386529386529\n",
      "6088\n",
      "Confusion Matrix, Accuracy and how many correct records are predicted for Test Data:\n",
      "[[  14    2    0    3    1    0    0    0    0    0    0    3    0    1]\n",
      " [   2 1836   17   62  142    5   24   30   33   12    4  123   82    4]\n",
      " [   0   14   11    6    2    0    0    1    0    0    0    6    1    0]\n",
      " [   6  105    3  779   30    8   25   25    2    5    3  120   16    0]\n",
      " [   0  155    1   28  714    5    4   72   20    2    8   41  196    2]\n",
      " [   1    4    0    0    1   67    1    3    0    1    0   30    0    0]\n",
      " [   1   28    0   35   14    1   12    2    0    0    0   28    3    4]\n",
      " [   0   40    1   10   95    7   12  446    1    2    2   12   23    6]\n",
      " [   0   24    0    0    7    0    0    0   51    0    2    5    5    0]\n",
      " [   0    0    0    0    8    0    0    1    0   12    1    6    2    0]\n",
      " [   0    1    0    2   22    0    1    1    2    1   39    3    1    0]\n",
      " [   2  136    5   97   60   23   14   32    5    5    5  959   35    3]\n",
      " [   1   76    0    6  186    0    4   17    3    3    5   18  224    1]\n",
      " [   0   16    0    5    8    0    0    4    1    0    0    3    2   56]]\n",
      "0.6585919757759273\n",
      "5220\n"
     ]
    }
   ],
   "source": [
    "knn_pred_val = knn.predict(tfidf_valid_vectors)\n",
    "knn_pred_test = knn.predict(tfidf_test_vectors)\n",
    "print('Confusion Matrix, Accuracy and how many correct records are predicted for Validation Data:')\n",
    "print(confusion_matrix(y_valid, knn_pred_val))\n",
    "print(accuracy_score(y_valid, knn_pred_val))\n",
    "print(accuracy_score(y_valid, knn_pred_val, normalize = False))\n",
    "print('Confusion Matrix, Accuracy and how many correct records are predicted for Test Data:')\n",
    "print(confusion_matrix(y_test, knn_pred_test))\n",
    "print(accuracy_score(y_test, knn_pred_test))\n",
    "print(accuracy_score(y_test, knn_pred_test, normalize = False))"
   ]
  },
  {
   "cell_type": "code",
   "execution_count": 24,
   "metadata": {},
   "outputs": [],
   "source": [
    "import pickle\n",
    "output = open('machine_learning_lr.pkl', 'wb')\n",
    "pickle.dump(vectorizer,output)\n",
    "pickle.dump(transformer,output)\n",
    "pickle.dump(lr_fit,output)\n",
    "output.close()"
   ]
  },
  {
   "cell_type": "code",
   "execution_count": null,
   "metadata": {},
   "outputs": [],
   "source": [
    "from sklearn.svm import SVC\n",
    "from sklearn.ensemble import BaggingClassifier, RandomForestClassifier\n",
    "from sklearn.multiclass import OneVsRestClassifier\n",
    "n_estimators = 10\n",
    "clf = OneVsRestClassifier(BaggingClassifier(SVC(kernel='linear', probability=True), max_samples=1.0 / n_estimators, n_estimators=n_estimators))\n",
    "svm_fit = clf.fit(tfidf_train_vectors, y_train)\n"
   ]
  },
  {
   "cell_type": "code",
   "execution_count": null,
   "metadata": {},
   "outputs": [],
   "source": [
    "svm_pred_val = svm_fit.predict(tfidf_valid_vectors)\n",
    "svm_pred_test = svm_fit.predict(tfidf_test_vectors)\n",
    "print('Confusion Matrix, Accuracy and how many correct records are predicted for Validation Data:')\n",
    "print(confusion_matrix(y_valid, svm_pred_val))\n",
    "print(accuracy_score(y_valid, svm_pred_val))\n",
    "print(accuracy_score(y_valid, svm_pred_val, normalize = False))\n",
    "print('Confusion Matrix, Accuracy and how many correct records are predicted for Test Data:')\n",
    "print(confusion_matrix(y_test, svm_pred_test))\n",
    "print(accuracy_score(y_test, svm_pred_test))\n",
    "print(accuracy_score(y_test, svm_pred_test, normalize = False))"
   ]
  },
  {
   "cell_type": "code",
   "execution_count": null,
   "metadata": {},
   "outputs": [],
   "source": []
  },
  {
   "cell_type": "code",
   "execution_count": null,
   "metadata": {},
   "outputs": [],
   "source": []
  },
  {
   "cell_type": "code",
   "execution_count": null,
   "metadata": {},
   "outputs": [],
   "source": [
    " "
   ]
  },
  {
   "cell_type": "code",
   "execution_count": null,
   "metadata": {},
   "outputs": [],
   "source": []
  }
 ],
 "metadata": {
  "kernelspec": {
   "display_name": "Python 3",
   "language": "python",
   "name": "python3"
  },
  "language_info": {
   "codemirror_mode": {
    "name": "ipython",
    "version": 3
   },
   "file_extension": ".py",
   "mimetype": "text/x-python",
   "name": "python",
   "nbconvert_exporter": "python",
   "pygments_lexer": "ipython3",
   "version": "3.6.6"
  }
 },
 "nbformat": 4,
 "nbformat_minor": 2
}
